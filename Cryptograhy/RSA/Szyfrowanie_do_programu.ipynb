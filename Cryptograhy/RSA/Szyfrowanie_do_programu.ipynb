{
  "nbformat": 4,
  "nbformat_minor": 0,
  "metadata": {
    "colab": {
      "name": "Szyfrowanie.ipynb",
      "provenance": [],
      "collapsed_sections": [],
      "authorship_tag": "ABX9TyNkPRuBdYux5GU/qSeX51s5",
      "include_colab_link": true
    },
    "kernelspec": {
      "name": "python3",
      "display_name": "Python 3"
    },
    "language_info": {
      "name": "python"
    }
  },
  "cells": [
    {
      "cell_type": "markdown",
      "metadata": {
        "id": "view-in-github",
        "colab_type": "text"
      },
      "source": [
        "<a href=\"https://colab.research.google.com/github/Conrad-Push/AGH_repo/blob/main/Szyfrowanie_do_programu.ipynb\" target=\"_parent\"><img src=\"https://colab.research.google.com/assets/colab-badge.svg\" alt=\"Open In Colab\"/></a>"
      ]
    },
    {
      "cell_type": "code",
      "metadata": {
        "id": "07MfeBfpIS_n"
      },
      "source": [
        "import numpy as np\n",
        "import matplotlib.pyplot as plt \n",
        "import math \n",
        "from sympy import *\n",
        "import random as rnd\n",
        "import hashlib as hash"
      ],
      "execution_count": 1,
      "outputs": []
    },
    {
      "cell_type": "markdown",
      "metadata": {
        "id": "L-a0nN_TxWMv"
      },
      "source": [
        "**Liniowy generator kongruencyjny**<br>\n",
        "a - mnożnik<br>\n",
        "c - przyrost<br>\n",
        "m - moduł<br>\n",
        "x0 - pierwsza liczba pseudolosowa<br>\n",
        "ilosc_liczb - ilość licz pseudolosowych do wygenerowania\n"
      ]
    },
    {
      "cell_type": "code",
      "metadata": {
        "id": "3iRjT0uuJWbt"
      },
      "source": [
        "def LCG(a,c,m,x0,ilosc_liczb):\n",
        "  tab = []\n",
        "  iteracja = [0]\n",
        "  tab.append(x0)\n",
        " \n",
        "  for i in range(0,ilosc_liczb-1):\n",
        "    x = (a*tab[i] + c) % m \n",
        "    tab.append(x)\n",
        "    next_i = i+1\n",
        "    iteracja.append(next_i)\n",
        "    \n",
        "  return tab"
      ],
      "execution_count": 2,
      "outputs": []
    },
    {
      "cell_type": "markdown",
      "metadata": {
        "id": "OPbrz6qz0BMf"
      },
      "source": [
        "**Średnia i odchylenie standardowe**"
      ]
    },
    {
      "cell_type": "code",
      "metadata": {
        "colab": {
          "base_uri": "https://localhost:8080/"
        },
        "id": "CnTccCdxNcjz",
        "outputId": "ea7316ec-74fa-48de-eb35-59ef146c1a0e"
      },
      "source": [
        "x = LCG(5,7,8,2,30)\n",
        "\n",
        "y = sum(x)/30\n",
        "print(y)\n",
        "\n",
        "X = 0\n",
        "for i in range(0,30):\n",
        "  X += (x[i]-y)**2\n",
        "X = sqrt(X/30)\n",
        "print(X)"
      ],
      "execution_count": 3,
      "outputs": [
        {
          "output_type": "stream",
          "text": [
            "3.5\n",
            "2.18708329364323\n"
          ],
          "name": "stdout"
        }
      ]
    },
    {
      "cell_type": "markdown",
      "metadata": {
        "id": "HwVN4Rqr3sY8"
      },
      "source": [
        "**Szyfr podstawieniowy**"
      ]
    },
    {
      "cell_type": "code",
      "metadata": {
        "colab": {
          "base_uri": "https://localhost:8080/"
        },
        "id": "qw5Q3kXl3etV",
        "outputId": "6dc869a1-f31f-4b29-8b57-928517c9d457"
      },
      "source": [
        "def key(text, m, a, c, x0):\n",
        "  Key = LCG(a,c,m,x0,len(text)+1)\n",
        "  return Key\n",
        "\n",
        "Cipher = \"VPDDWLOGLKJBNTMGMOQNXPNHAAOZTPUEAW\"\n",
        "m = 3956280000\n",
        "a = 1978141\n",
        "c = 1309\n",
        "x0 = 13\n",
        "Key = key(Cipher,m,a,c,x0)\n",
        "print(Key)"
      ],
      "execution_count": 4,
      "outputs": [
        {
          "output_type": "stream",
          "text": [
            "[13, 25717142, 2284754331, 2939519980, 2899958489, 3867270258, 421351687, 3758475176, 2128489125, 397617934, 267062003, 272997732, 3699137521, 2751609770, 2296638879, 79145248, 2547865277, 1117671366, 3819811915, 3651671324, 2314449993, 2300604322, 2937566711, 387745560, 3473645269, 2027626238, 2498424867, 257193556, 3335180705, 773490714, 2185883983, 2152256912, 41901, 3760487350, 2474697659]\n"
          ],
          "name": "stdout"
        }
      ]
    },
    {
      "cell_type": "markdown",
      "metadata": {
        "id": "Dj_6LXWqN0xZ"
      },
      "source": [
        "Deszyfrowanie"
      ]
    },
    {
      "cell_type": "code",
      "metadata": {
        "colab": {
          "base_uri": "https://localhost:8080/"
        },
        "id": "ZOoEDwcm7wvH",
        "outputId": "fa7eb092-9616-426e-8e95-1964ede871c0"
      },
      "source": [
        "def decrypt(cipher, key):\n",
        "  cipherA = []\n",
        "  for i in cipher:\n",
        "    cipherA.append(ord(i))\n",
        "  decryptA = []\n",
        "  t = 1\n",
        "  for i in cipherA:\n",
        "    a = 65 + (i - 39 - (key[t]) % 26) % 26\n",
        "    decryptA.append(a)\n",
        "    t += 1\n",
        "  plaintext = \"\".join([chr(i) for i in decryptA])\n",
        "  plaintext = plaintext.replace(\"X\", \" \")\n",
        "  return plaintext\n",
        "\n",
        "text = decrypt(Cipher,Key)\n",
        "print(text)"
      ],
      "execution_count": 5,
      "outputs": [
        {
          "output_type": "stream",
          "text": [
            "ZAJECIA Z PANEM GROCHOTEM SA SUPER\n"
          ],
          "name": "stdout"
        }
      ]
    },
    {
      "cell_type": "markdown",
      "metadata": {
        "id": "72c3H9JBN0Ap"
      },
      "source": [
        "Szyfrowanie"
      ]
    },
    {
      "cell_type": "code",
      "metadata": {
        "colab": {
          "base_uri": "https://localhost:8080/"
        },
        "id": "zCJ1u-MRN5Wp",
        "outputId": "8c35cedb-93c1-4c61-8158-b4d805b7c30e"
      },
      "source": [
        "def encrypt(text,key):\n",
        "  plaintext = text.replace(\" \", \"X\")\n",
        "  textA = []\n",
        "  for i in plaintext:\n",
        "    textA.append(ord(i))\n",
        "  encryptA = []\n",
        "  t = 1\n",
        "  for i in textA:\n",
        "    a = 65 + (i - 65 + (key[t]) % 26) % 26\n",
        "    encryptA.append(a)\n",
        "    t += 1\n",
        "  ciphertext = \"\".join([chr(i) for i in encryptA])\n",
        "  return ciphertext\n",
        "\n",
        "ciphertext = encrypt(text,Key)\n",
        "print(ciphertext)"
      ],
      "execution_count": 6,
      "outputs": [
        {
          "output_type": "stream",
          "text": [
            "VPDDWLOGLKJBNTMGMOQNXPNHAAOZTPUEAW\n"
          ],
          "name": "stdout"
        }
      ]
    },
    {
      "cell_type": "markdown",
      "metadata": {
        "id": "Q10-T1RgUmKA"
      },
      "source": [
        "**Hashowanie**"
      ]
    },
    {
      "cell_type": "code",
      "metadata": {
        "colab": {
          "base_uri": "https://localhost:8080/"
        },
        "id": "0TpYOm6UUlfx",
        "outputId": "9344ae59-9673-474a-f231-c1b209820828"
      },
      "source": [
        "a = b\"Ala ma kota\"\n",
        "b = b\"ROD\"\n",
        "c = b\"fajraaant\"\n",
        "\n",
        "d = hash.sha256(b).hexdigest()\n",
        "print(d)\n",
        "e = b\"9e5b0ee018f932bceb77851b1ba997b824b562f8ae765bd8020da726efce34ca\"\n",
        "print(hash.sha256(e).hexdigest())\n"
      ],
      "execution_count": 7,
      "outputs": [
        {
          "output_type": "stream",
          "text": [
            "9e5b0ee018f932bceb77851b1ba997b824b562f8ae765bd8020da726efce34ca\n",
            "1e2b35ff6724e2ecf156d15b7050332261a638ee1442a76e308b694480055180\n"
          ],
          "name": "stdout"
        }
      ]
    },
    {
      "cell_type": "markdown",
      "metadata": {
        "id": "TvE6CqYdbefI"
      },
      "source": [
        "**RSA**"
      ]
    },
    {
      "cell_type": "markdown",
      "metadata": {
        "id": "Sde2M6KkuTgd"
      },
      "source": [
        "Szyfrowanie"
      ]
    },
    {
      "cell_type": "code",
      "metadata": {
        "id": "Y1xzNlX9bg2n"
      },
      "source": [
        "def RSA_encrypt(key_public,plaintext):\n",
        "  text_padding = []\n",
        "  for i in plaintext:\n",
        "    text_padding.append(ord(i))\n",
        "\n",
        "  encryptedA = []\n",
        "  for i in text_padding:\n",
        "    a = pow(i, key_public[0], key_public[1])\n",
        "    encryptedA.append(a)\n",
        "\n",
        "  return encryptedA"
      ],
      "execution_count": 8,
      "outputs": []
    },
    {
      "cell_type": "markdown",
      "metadata": {
        "id": "KfcB_cDMuVs0"
      },
      "source": [
        "Deszyfrowanie"
      ]
    },
    {
      "cell_type": "code",
      "metadata": {
        "id": "lEe2x6cetVel"
      },
      "source": [
        "def RSA_decrypt(key_private,cipher):\n",
        "  decryptedA = []\n",
        "  for i in cipher:\n",
        "    a = pow(i, key_private[0], key_private[1])\n",
        "    decryptedA.append(a)\n",
        "  \n",
        "  plaintext = \"\".join([chr(i) for i in decryptedA])\n",
        "  \n",
        "  return plaintext"
      ],
      "execution_count": 9,
      "outputs": []
    },
    {
      "cell_type": "markdown",
      "metadata": {
        "id": "XJWGDb99uYW8"
      },
      "source": [
        "Zadanie 4"
      ]
    },
    {
      "cell_type": "markdown",
      "metadata": {
        "id": "dtFkhLTMyofU"
      },
      "source": [
        "Odszukanie mojej listy"
      ]
    },
    {
      "cell_type": "code",
      "metadata": {
        "colab": {
          "base_uri": "https://localhost:8080/"
        },
        "id": "Yd8X_MdcuaHM",
        "outputId": "03ba94af-d4e2-4752-bb9e-4979075f7c41"
      },
      "source": [
        "Cipher = \"MSBWKDAYPLR\"\n",
        "m = 75\n",
        "a = 402\n",
        "c = 77\n",
        "x0 = 0\n",
        "Key = key(Cipher,m,a,c,x0)\n",
        "name = decrypt(Cipher,Key)\n",
        "print(name)"
      ],
      "execution_count": 10,
      "outputs": [
        {
          "output_type": "stream",
          "text": [
            "KONRAD PUSZ\n"
          ],
          "name": "stdout"
        }
      ]
    },
    {
      "cell_type": "markdown",
      "metadata": {
        "id": "e_JySN9-yss7"
      },
      "source": [
        "Wczytanie listy i odszyfrowanie znaków"
      ]
    },
    {
      "cell_type": "code",
      "metadata": {
        "id": "oz7lNwJeyydU",
        "colab": {
          "base_uri": "https://localhost:8080/"
        },
        "outputId": "1d4eb14c-4e66-41c3-ddd4-2a064700216d"
      },
      "source": [
        "Cipher_text = [512000, 1367631, 1000000, 1481544, 1367631, 1815848, 1331000, 1771561, 32768, 1000000, 1367631, 32768, 1061208, 1367631, 1259712, 1685159, 912673, 1481544, 1225043, 1601613, 32768, 1331000, 1157625, 1030301, 32768, 941192, 1157625, 1030301, 1092727, 1259712, 32768, 1520875, 1259712, 1601613, 1092727, 32768, 1815848, 912673, 1404928, 1771561, 1560896, 912673, 970299]\n",
        "key_private = [5971645067, 8957657851]\n",
        "\n",
        "text = RSA_decrypt(key_private, Cipher_text)\n",
        "print(text)"
      ],
      "execution_count": 11,
      "outputs": [
        {
          "output_type": "stream",
          "text": [
            "Podrozny do folwarku nie biegl slug zapytac\n"
          ],
          "name": "stdout"
        }
      ]
    },
    {
      "cell_type": "markdown",
      "metadata": {
        "id": "ffUiBYHJ6EqT"
      },
      "source": [
        "Hashowanie ciągu znaków"
      ]
    },
    {
      "cell_type": "code",
      "metadata": {
        "colab": {
          "base_uri": "https://localhost:8080/"
        },
        "id": "bxHZWQ2-6Ay0",
        "outputId": "9df7cd59-40e8-4696-8cc7-16b09e8166f1"
      },
      "source": [
        "text = \"KONRAD\"\n",
        "h_text = hash.sha256(text.encode()).hexdigest()\n",
        "print(h_text)"
      ],
      "execution_count": 12,
      "outputs": [
        {
          "output_type": "stream",
          "text": [
            "0e9bfddb608c5e183ea77e91edc8ba1a2b790c287f5bf283acef77e70186ace5\n"
          ],
          "name": "stdout"
        }
      ]
    },
    {
      "cell_type": "markdown",
      "metadata": {
        "id": "fUH-uxtN785U"
      },
      "source": [
        "Szyfrowanie hashu za pomocą RSA i klucza publicznego  (5, 4472424641)"
      ]
    },
    {
      "cell_type": "code",
      "metadata": {
        "colab": {
          "base_uri": "https://localhost:8080/"
        },
        "id": "RCqTY_JS8Dv8",
        "outputId": "3c89a0d2-c1c4-4eac-ac05-e4630af000c0"
      },
      "source": [
        "key_public = [5, 4472424641]\n",
        "\n",
        "cipher_hash = RSA_encrypt(key_public, h_text)\n",
        "print(cipher_hash)"
      ],
      "execution_count": 13,
      "outputs": [
        {
          "output_type": "stream",
          "text": [
            "[254803968, 1565251219, 601692057, 94358686, 2095958750, 1055150718, 1055150718, 94358686, 459165024, 254803968, 550731776, 565051217, 418195493, 1565251219, 282475249, 550731776, 345025251, 1565251219, 4114915616, 503284375, 503284375, 1565251219, 601692057, 282475249, 1565251219, 1055150718, 565051217, 550731776, 94358686, 4114915616, 282475249, 4114915616, 312500000, 94358686, 503284375, 601692057, 254803968, 565051217, 312500000, 550731776, 503284375, 2095958750, 418195493, 94358686, 2095958750, 312500000, 550731776, 345025251, 4114915616, 565051217, 1565251219, 2095958750, 503284375, 503284375, 1565251219, 503284375, 254803968, 282475249, 550731776, 459165024, 4114915616, 565051217, 1565251219, 418195493]\n"
          ],
          "name": "stdout"
        }
      ]
    },
    {
      "cell_type": "markdown",
      "metadata": {
        "id": "6b0seBaH8t7U"
      },
      "source": [
        "Mój klucz publiczny: (3, 9523)<br>\n",
        "Klucz prywatny: (6219, 9523)"
      ]
    }
  ]
}